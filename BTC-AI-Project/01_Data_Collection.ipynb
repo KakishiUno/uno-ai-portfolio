{
 "cells": [
  {
   "cell_type": "markdown",
   "metadata": {},
   "source": [
    "# 📥 BTC価格データ収集ノート\n",
    "\n",
    "このノートでは、**CoinGecko API** を使用して、BTCの価格データを収集します。\n",
    "\n",
    "今後のAIモデル学習用のデータセットを作成するための最初のステップです。"
   ]
  },
  {
   "cell_type": "code",
   "execution_count": null,
   "metadata": {},
   "outputs": [],
   "source": [
    "# ライブラリのインポート\n",
    "import requests\n",
    "import pandas as pd\n",
    "import time\n",
    "\n",
    "print(\"ライブラリ読み込み完了\")"
   ]
  },
  {
   "cell_type": "markdown",
   "metadata": {},
   "source": [
    "## ✅ CoinGecko APIからデータ取得関数"
   ]
  },
  {
   "cell_type": "code",
   "execution_count": null,
   "metadata": {},
   "outputs": [],
   "source": [
    "def get_btc_price_data(days=30, interval='hourly'):\n",
    "    url = f\"https://api.coingecko.com/api/v3/coins/bitcoin/market_chart\"\n",
    "    params = {\n",
    "        'vs_currency': 'usd',\n",
    "        'days': days,\n",
    "        'interval': interval\n",
    "    }\n",
    "    response = requests.get(url, params=params)\n",
    "    data = response.json()\n",
    "    prices = data['prices']\n",
    "\n",
    "    df = pd.DataFrame(prices, columns=['timestamp', 'price'])\n",
    "    df['timestamp'] = pd.to_datetime(df['timestamp'], unit='ms')\n",
    "    return df"
   ]
  },
  {
   "cell_type": "markdown",
   "metadata": {},
   "source": [
    "## 📊 データ取得＆保存"
   ]
  },
  {
   "cell_type": "code",
   "execution_count": null,
   "metadata": {},
   "outputs": [],
   "source": [
    "df = get_btc_price_data(days=90, interval='hourly')\n",
    "df.to_csv(\"btc_price_90days.csv\", index=False)\n",
    "print(\"✅ データ取得＆保存完了！\")\n",
    "df.head()"
   ]
  }
 ],
 "metadata": {
  "kernelspec": {
   "display_name": "Python 3",
   "language": "python",
   "name": "python3"
  },
  "language_info": {
   "name": "python"
  }
 },
 "nbformat": 4,
 "nbformat_minor": 4
}
